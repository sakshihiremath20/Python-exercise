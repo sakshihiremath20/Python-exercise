{
 "cells": [
  {
   "cell_type": "markdown",
   "metadata": {
    "id": "x9Go5YYih7H0"
   },
   "source": [
    "___\n",
    "\n",
    "Mr. Yogesh P Murumkar (Mob. 9657080905)\n",
    "\n",
    "www.youtube.com/yogeshmurumkar\n",
    "___"
   ]
  },
  {
   "cell_type": "markdown",
   "metadata": {
    "id": "uB_wEM4Eh7H5"
   },
   "source": [
    "# NumPy Exercises\n",
    "\n",
    "Now that we've learned about NumPy let's test your knowledge. We'll start off with a few simple tasks, and then you'll be asked some more complicated questions."
   ]
  },
  {
   "cell_type": "markdown",
   "metadata": {
    "id": "AS5Pk7-eh7H6"
   },
   "source": [
    "#### Import NumPy as np"
   ]
  },
  {
   "cell_type": "code",
   "execution_count": 34,
   "metadata": {
    "executionInfo": {
     "elapsed": 33,
     "status": "ok",
     "timestamp": 1756905178276,
     "user": {
      "displayName": "Sakshi Hiremath",
      "userId": "10350317408396281799"
     },
     "user_tz": -330
    },
    "id": "vnZAGwzMh7H7"
   },
   "outputs": [],
   "source": [
    "import numpy as np"
   ]
  },
  {
   "cell_type": "markdown",
   "metadata": {
    "id": "jJXxKWYSh7H8"
   },
   "source": [
    "#### Create an array of 10 zeros"
   ]
  },
  {
   "cell_type": "code",
   "execution_count": 35,
   "metadata": {
    "colab": {
     "base_uri": "https://localhost:8080/"
    },
    "executionInfo": {
     "elapsed": 13,
     "status": "ok",
     "timestamp": 1756905178300,
     "user": {
      "displayName": "Sakshi Hiremath",
      "userId": "10350317408396281799"
     },
     "user_tz": -330
    },
    "id": "Cek4R2EQh7H8",
    "outputId": "ac10e13e-39a1-4c36-a53b-1a5dc0f22e6d"
   },
   "outputs": [
    {
     "data": {
      "text/plain": [
       "array([0., 0., 0., 0., 0., 0., 0., 0., 0., 0.])"
      ]
     },
     "execution_count": 35,
     "metadata": {},
     "output_type": "execute_result"
    }
   ],
   "source": [
    "np.zeros(10)"
   ]
  },
  {
   "cell_type": "markdown",
   "metadata": {
    "id": "2N2Vs1PWh7H9"
   },
   "source": [
    "#### Create an array of 10 ones"
   ]
  },
  {
   "cell_type": "code",
   "execution_count": 36,
   "metadata": {
    "colab": {
     "base_uri": "https://localhost:8080/"
    },
    "executionInfo": {
     "elapsed": 11,
     "status": "ok",
     "timestamp": 1756905178314,
     "user": {
      "displayName": "Sakshi Hiremath",
      "userId": "10350317408396281799"
     },
     "user_tz": -330
    },
    "id": "xWEqeVLch7H-",
    "outputId": "65838d51-e553-45d7-e9c6-e6b87284d291"
   },
   "outputs": [
    {
     "data": {
      "text/plain": [
       "array([1., 1., 1., 1., 1., 1., 1., 1., 1., 1.])"
      ]
     },
     "execution_count": 36,
     "metadata": {},
     "output_type": "execute_result"
    }
   ],
   "source": [
    "np.ones(10)"
   ]
  },
  {
   "cell_type": "markdown",
   "metadata": {
    "id": "d8bY4ORFh7H-"
   },
   "source": [
    "#### Create an array of 10 fives"
   ]
  },
  {
   "cell_type": "code",
   "execution_count": 37,
   "metadata": {
    "colab": {
     "base_uri": "https://localhost:8080/"
    },
    "executionInfo": {
     "elapsed": 9,
     "status": "ok",
     "timestamp": 1756905178325,
     "user": {
      "displayName": "Sakshi Hiremath",
      "userId": "10350317408396281799"
     },
     "user_tz": -330
    },
    "id": "PNdYV2NHh7H_",
    "outputId": "2ad40576-96a5-49ff-9685-30c8a6c92033"
   },
   "outputs": [
    {
     "data": {
      "text/plain": [
       "array([5, 5, 5, 5, 5, 5, 5, 5, 5, 5])"
      ]
     },
     "execution_count": 37,
     "metadata": {},
     "output_type": "execute_result"
    }
   ],
   "source": [
    "array=[5,5,5,5,5,5,5,5,5,5]\n",
    "np.array(array)"
   ]
  },
  {
   "cell_type": "markdown",
   "metadata": {
    "id": "1BGXKJfah7H_"
   },
   "source": [
    "#### Create an array of the integers from 10 to 50"
   ]
  },
  {
   "cell_type": "code",
   "execution_count": 38,
   "metadata": {
    "colab": {
     "base_uri": "https://localhost:8080/"
    },
    "executionInfo": {
     "elapsed": 10,
     "status": "ok",
     "timestamp": 1756905178338,
     "user": {
      "displayName": "Sakshi Hiremath",
      "userId": "10350317408396281799"
     },
     "user_tz": -330
    },
    "id": "t5Qpt1Bih7H_",
    "outputId": "f675e077-7a54-4c67-f01a-8fb7c946ee3f"
   },
   "outputs": [
    {
     "data": {
      "text/plain": [
       "array([10, 11, 12, 13, 14, 15, 16, 17, 18, 19, 20, 21, 22, 23, 24, 25, 26,\n",
       "       27, 28, 29, 30, 31, 32, 33, 34, 35, 36, 37, 38, 39, 40, 41, 42, 43,\n",
       "       44, 45, 46, 47, 48, 49, 50])"
      ]
     },
     "execution_count": 38,
     "metadata": {},
     "output_type": "execute_result"
    }
   ],
   "source": [
    "np.arange(10,51)"
   ]
  },
  {
   "cell_type": "markdown",
   "metadata": {
    "id": "-jKh34rmh7IA"
   },
   "source": [
    "#### Create an array of all the even integers from 10 to 50"
   ]
  },
  {
   "cell_type": "code",
   "execution_count": 39,
   "metadata": {
    "colab": {
     "base_uri": "https://localhost:8080/"
    },
    "executionInfo": {
     "elapsed": 10,
     "status": "ok",
     "timestamp": 1756905178351,
     "user": {
      "displayName": "Sakshi Hiremath",
      "userId": "10350317408396281799"
     },
     "user_tz": -330
    },
    "id": "JrI1t0pMh7IA",
    "outputId": "d19106e4-4aaa-4ca6-c214-9c4b352328b9"
   },
   "outputs": [
    {
     "data": {
      "text/plain": [
       "array([10, 12, 14, 16, 18, 20, 22, 24, 26, 28, 30, 32, 34, 36, 38, 40, 42,\n",
       "       44, 46, 48, 50])"
      ]
     },
     "execution_count": 39,
     "metadata": {},
     "output_type": "execute_result"
    }
   ],
   "source": [
    "np.arange(10,51,2)"
   ]
  },
  {
   "cell_type": "markdown",
   "metadata": {
    "id": "camveC7gh7IA"
   },
   "source": [
    "#### Create a 3x3 matrix with values ranging from 0 to 8"
   ]
  },
  {
   "cell_type": "code",
   "execution_count": 40,
   "metadata": {
    "colab": {
     "base_uri": "https://localhost:8080/"
    },
    "executionInfo": {
     "elapsed": 44,
     "status": "ok",
     "timestamp": 1756905178398,
     "user": {
      "displayName": "Sakshi Hiremath",
      "userId": "10350317408396281799"
     },
     "user_tz": -330
    },
    "id": "LmHF4iVxh7IB",
    "outputId": "25a694da-acc5-4870-b425-74369ed24abb"
   },
   "outputs": [
    {
     "data": {
      "text/plain": [
       "matrix([[0, 1, 2],\n",
       "        [3, 4, 5],\n",
       "        [6, 7, 8]])"
      ]
     },
     "execution_count": 40,
     "metadata": {},
     "output_type": "execute_result"
    }
   ],
   "source": [
    "given=[[0,1,2],[3,4,5],[6,7,8]]\n",
    "np.matrix(given)"
   ]
  },
  {
   "cell_type": "markdown",
   "metadata": {
    "id": "ZvZ25ztQh7IB"
   },
   "source": [
    "#### Create a 3x3 identity matrix"
   ]
  },
  {
   "cell_type": "code",
   "execution_count": 41,
   "metadata": {
    "colab": {
     "base_uri": "https://localhost:8080/"
    },
    "executionInfo": {
     "elapsed": 12,
     "status": "ok",
     "timestamp": 1756905178509,
     "user": {
      "displayName": "Sakshi Hiremath",
      "userId": "10350317408396281799"
     },
     "user_tz": -330
    },
    "id": "upaMPjmdh7IB",
    "outputId": "7bb5a217-2f9c-40d9-c69e-3b8ba9330742"
   },
   "outputs": [
    {
     "data": {
      "text/plain": [
       "array([[1., 0., 0.],\n",
       "       [0., 1., 0.],\n",
       "       [0., 0., 1.]])"
      ]
     },
     "execution_count": 41,
     "metadata": {},
     "output_type": "execute_result"
    }
   ],
   "source": [
    "np.eye(3)"
   ]
  },
  {
   "cell_type": "markdown",
   "metadata": {
    "id": "9o4LnqQEh7IC"
   },
   "source": [
    "#### Use NumPy to generate a random number between 0 and 1"
   ]
  },
  {
   "cell_type": "code",
   "execution_count": 42,
   "metadata": {
    "colab": {
     "base_uri": "https://localhost:8080/"
    },
    "executionInfo": {
     "elapsed": 12,
     "status": "ok",
     "timestamp": 1756905178553,
     "user": {
      "displayName": "Sakshi Hiremath",
      "userId": "10350317408396281799"
     },
     "user_tz": -330
    },
    "id": "Z91rW31Uh7IC",
    "outputId": "635090bf-2df0-47c5-9d5a-6dbdc83c2f4c"
   },
   "outputs": [
    {
     "data": {
      "text/plain": [
       "array([0.64094233])"
      ]
     },
     "execution_count": 42,
     "metadata": {},
     "output_type": "execute_result"
    }
   ],
   "source": [
    "np.random.rand(1)"
   ]
  },
  {
   "cell_type": "markdown",
   "metadata": {
    "id": "cmBigImgh7IC"
   },
   "source": [
    "#### Use NumPy to generate an array of 25 random numbers sampled from a standard normal distribution"
   ]
  },
  {
   "cell_type": "code",
   "execution_count": 43,
   "metadata": {
    "colab": {
     "base_uri": "https://localhost:8080/"
    },
    "executionInfo": {
     "elapsed": 52,
     "status": "ok",
     "timestamp": 1756905178608,
     "user": {
      "displayName": "Sakshi Hiremath",
      "userId": "10350317408396281799"
     },
     "user_tz": -330
    },
    "id": "XdO5fivlh7ID",
    "outputId": "6f2ed56f-6527-44fa-9e36-c3b8a0af74b3"
   },
   "outputs": [
    {
     "data": {
      "text/plain": [
       "array([0.48868134, 0.26433875, 0.1480731 , 0.66647489, 0.54103915,\n",
       "       0.64512322, 0.64389708, 0.73070191, 0.20372023, 0.56612306,\n",
       "       0.31282739, 0.88314134, 0.05633224, 0.32186311, 0.8347497 ,\n",
       "       0.45519824, 0.72552412, 0.92959378, 0.69454516, 0.47962471,\n",
       "       0.71456047, 0.56083497, 0.94760556, 0.30994605, 0.20870405])"
      ]
     },
     "execution_count": 43,
     "metadata": {},
     "output_type": "execute_result"
    }
   ],
   "source": [
    "np.random.rand(25)"
   ]
  },
  {
   "cell_type": "markdown",
   "metadata": {
    "id": "AyK0cArVh7ID"
   },
   "source": [
    "#### Create the following matrix:"
   ]
  },
  {
   "cell_type": "code",
   "execution_count": 44,
   "metadata": {
    "colab": {
     "base_uri": "https://localhost:8080/"
    },
    "executionInfo": {
     "elapsed": 168,
     "status": "ok",
     "timestamp": 1756905178807,
     "user": {
      "displayName": "Sakshi Hiremath",
      "userId": "10350317408396281799"
     },
     "user_tz": -330
    },
    "id": "8ofQ12veh7ID",
    "outputId": "87271fe7-9a0b-4fa1-c66b-2aaca42dee69"
   },
   "outputs": [
    {
     "data": {
      "text/plain": [
       "array([[0.01, 0.02, 0.03, 0.04, 0.05, 0.06, 0.07, 0.08, 0.09, 0.1 ],\n",
       "       [0.11, 0.12, 0.13, 0.14, 0.15, 0.16, 0.17, 0.18, 0.19, 0.2 ],\n",
       "       [0.21, 0.22, 0.23, 0.24, 0.25, 0.26, 0.27, 0.28, 0.29, 0.3 ],\n",
       "       [0.31, 0.32, 0.33, 0.34, 0.35, 0.36, 0.37, 0.38, 0.39, 0.4 ],\n",
       "       [0.41, 0.42, 0.43, 0.44, 0.45, 0.46, 0.47, 0.48, 0.49, 0.5 ],\n",
       "       [0.51, 0.52, 0.53, 0.54, 0.55, 0.56, 0.57, 0.58, 0.59, 0.6 ],\n",
       "       [0.61, 0.62, 0.63, 0.64, 0.65, 0.66, 0.67, 0.68, 0.69, 0.7 ],\n",
       "       [0.71, 0.72, 0.73, 0.74, 0.75, 0.76, 0.77, 0.78, 0.79, 0.8 ],\n",
       "       [0.81, 0.82, 0.83, 0.84, 0.85, 0.86, 0.87, 0.88, 0.89, 0.9 ],\n",
       "       [0.91, 0.92, 0.93, 0.94, 0.95, 0.96, 0.97, 0.98, 0.99, 1.  ]])"
      ]
     },
     "execution_count": 44,
     "metadata": {},
     "output_type": "execute_result"
    }
   ],
   "source": [
    "np.arange(0.01,1.01,0.01).reshape(10,10)"
   ]
  },
  {
   "cell_type": "markdown",
   "metadata": {
    "id": "IwALqZD5h7IE"
   },
   "source": [
    "#### Create an array of 20 linearly spaced points between 0 and 1:"
   ]
  },
  {
   "cell_type": "code",
   "execution_count": 45,
   "metadata": {
    "colab": {
     "base_uri": "https://localhost:8080/"
    },
    "executionInfo": {
     "elapsed": 53,
     "status": "ok",
     "timestamp": 1756905178848,
     "user": {
      "displayName": "Sakshi Hiremath",
      "userId": "10350317408396281799"
     },
     "user_tz": -330
    },
    "id": "KO5gbVxHh7IE",
    "outputId": "30176411-c354-4ae8-cfa2-50d929fca2e5"
   },
   "outputs": [
    {
     "data": {
      "text/plain": [
       "array([0.        , 0.05263158, 0.10526316, 0.15789474, 0.21052632,\n",
       "       0.26315789, 0.31578947, 0.36842105, 0.42105263, 0.47368421,\n",
       "       0.52631579, 0.57894737, 0.63157895, 0.68421053, 0.73684211,\n",
       "       0.78947368, 0.84210526, 0.89473684, 0.94736842, 1.        ])"
      ]
     },
     "execution_count": 45,
     "metadata": {},
     "output_type": "execute_result"
    }
   ],
   "source": [
    "np.linspace(0,1,20)"
   ]
  },
  {
   "cell_type": "markdown",
   "metadata": {
    "id": "4oJ_Hum-h7IE"
   },
   "source": [
    "## Numpy Indexing and Selection\n",
    "\n",
    "Now you will be given a few matrices, and be asked to replicate the resulting matrix outputs:"
   ]
  },
  {
   "cell_type": "code",
   "execution_count": 46,
   "metadata": {
    "executionInfo": {
     "elapsed": 27,
     "status": "ok",
     "timestamp": 1756905178849,
     "user": {
      "displayName": "Sakshi Hiremath",
      "userId": "10350317408396281799"
     },
     "user_tz": -330
    },
    "id": "Ua6I85Qih7IF"
   },
   "outputs": [],
   "source": [
    "arr=np.arange(1,26).reshape(5,5)"
   ]
  },
  {
   "cell_type": "code",
   "execution_count": 47,
   "metadata": {
    "colab": {
     "base_uri": "https://localhost:8080/"
    },
    "executionInfo": {
     "elapsed": 24,
     "status": "ok",
     "timestamp": 1756905178853,
     "user": {
      "displayName": "Sakshi Hiremath",
      "userId": "10350317408396281799"
     },
     "user_tz": -330
    },
    "id": "LvWcuiOkh7IF",
    "outputId": "f5279a52-a75a-4639-9dbc-ea3fdf71bd51"
   },
   "outputs": [
    {
     "data": {
      "text/plain": [
       "array([[ 1,  2,  3,  4,  5],\n",
       "       [ 6,  7,  8,  9, 10],\n",
       "       [11, 12, 13, 14, 15],\n",
       "       [16, 17, 18, 19, 20],\n",
       "       [21, 22, 23, 24, 25]])"
      ]
     },
     "execution_count": 47,
     "metadata": {},
     "output_type": "execute_result"
    }
   ],
   "source": [
    "arr"
   ]
  },
  {
   "cell_type": "code",
   "execution_count": 48,
   "metadata": {
    "colab": {
     "base_uri": "https://localhost:8080/"
    },
    "executionInfo": {
     "elapsed": 56,
     "status": "ok",
     "timestamp": 1756905178908,
     "user": {
      "displayName": "Sakshi Hiremath",
      "userId": "10350317408396281799"
     },
     "user_tz": -330
    },
    "id": "CySEEN9Jh7IF",
    "outputId": "3b37ec2b-d76a-4abd-959c-84570eb23d97"
   },
   "outputs": [
    {
     "data": {
      "text/plain": [
       "array([[ 1,  2,  3,  4,  5],\n",
       "       [ 6,  7,  8,  9, 10],\n",
       "       [11, 12, 13, 14, 15],\n",
       "       [16, 17, 18, 19, 20],\n",
       "       [21, 22, 23, 24, 25]])"
      ]
     },
     "execution_count": 48,
     "metadata": {},
     "output_type": "execute_result"
    }
   ],
   "source": [
    "np.arange(1,26).reshape(5,5)"
   ]
  },
  {
   "cell_type": "code",
   "execution_count": 49,
   "metadata": {
    "collapsed": true,
    "executionInfo": {
     "elapsed": 17,
     "status": "ok",
     "timestamp": 1756905178919,
     "user": {
      "displayName": "Sakshi Hiremath",
      "userId": "10350317408396281799"
     },
     "user_tz": -330
    },
    "id": "soFuynyfh7IG",
    "jupyter": {
     "outputs_hidden": true
    }
   },
   "outputs": [],
   "source": [
    "# WRITE CODE HERE THAT REPRODUCES THE OUTPUT OF THE CELL BELOW\n",
    "# BE CAREFUL NOT TO RUN THE CELL BELOW, OTHERWISE YOU WON'T\n",
    "# BE ABLE TO SEE THE OUTPUT ANY MORE"
   ]
  },
  {
   "cell_type": "code",
   "execution_count": 50,
   "metadata": {
    "colab": {
     "base_uri": "https://localhost:8080/"
    },
    "executionInfo": {
     "elapsed": 60,
     "status": "ok",
     "timestamp": 1756905178966,
     "user": {
      "displayName": "Sakshi Hiremath",
      "userId": "10350317408396281799"
     },
     "user_tz": -330
    },
    "id": "LtGR5C2Rh7IG",
    "outputId": "b7da93e4-4df5-4667-908d-7d1597fd3553"
   },
   "outputs": [
    {
     "data": {
      "text/plain": [
       "matrix([[12, 13, 14, 15],\n",
       "        [17, 18, 19, 20],\n",
       "        [22, 23, 24, 25]])"
      ]
     },
     "execution_count": 50,
     "metadata": {},
     "output_type": "execute_result"
    }
   ],
   "source": [
    "given=[[12,13,14,15],[17,18,19,20],[22,23,24,25]]\n",
    "np.matrix(given)"
   ]
  },
  {
   "cell_type": "code",
   "execution_count": 51,
   "metadata": {
    "colab": {
     "base_uri": "https://localhost:8080/"
    },
    "executionInfo": {
     "elapsed": 19,
     "status": "ok",
     "timestamp": 1756905178967,
     "user": {
      "displayName": "Sakshi Hiremath",
      "userId": "10350317408396281799"
     },
     "user_tz": -330
    },
    "id": "jX0AxVGRh7IH",
    "outputId": "56f64a2f-10eb-449c-ddf2-cd49d30f9ba2"
   },
   "outputs": [
    {
     "data": {
      "text/plain": [
       "array([ 0,  1,  2,  3,  4,  5,  6,  7,  8,  9, 10, 11, 12, 13, 14, 15, 16,\n",
       "       17, 18, 19])"
      ]
     },
     "execution_count": 51,
     "metadata": {},
     "output_type": "execute_result"
    }
   ],
   "source": [
    "np.arange(20)"
   ]
  },
  {
   "cell_type": "code",
   "execution_count": 52,
   "metadata": {
    "collapsed": true,
    "executionInfo": {
     "elapsed": 17,
     "status": "ok",
     "timestamp": 1756905178978,
     "user": {
      "displayName": "Sakshi Hiremath",
      "userId": "10350317408396281799"
     },
     "user_tz": -330
    },
    "id": "-o6AuiIrh7IH",
    "jupyter": {
     "outputs_hidden": true
    }
   },
   "outputs": [],
   "source": [
    "# WRITE CODE HERE THAT REPRODUCES THE OUTPUT OF THE CELL BELOW\n",
    "# BE CAREFUL NOT TO RUN THE CELL BELOW, OTHERWISE YOU WON'T\n",
    "# BE ABLE TO SEE THE OUTPUT ANY MORE"
   ]
  },
  {
   "cell_type": "code",
   "execution_count": 53,
   "metadata": {
    "colab": {
     "base_uri": "https://localhost:8080/"
    },
    "executionInfo": {
     "elapsed": 14,
     "status": "ok",
     "timestamp": 1756905178982,
     "user": {
      "displayName": "Sakshi Hiremath",
      "userId": "10350317408396281799"
     },
     "user_tz": -330
    },
    "id": "73WvGAqmh7IH",
    "outputId": "04adafe4-91d6-4f67-d73d-0efb7f722662"
   },
   "outputs": [
    {
     "data": {
      "text/plain": [
       "20"
      ]
     },
     "execution_count": 53,
     "metadata": {},
     "output_type": "execute_result"
    }
   ],
   "source": [
    "given[1][3]"
   ]
  },
  {
   "cell_type": "code",
   "execution_count": 54,
   "metadata": {
    "collapsed": true,
    "executionInfo": {
     "elapsed": 8,
     "status": "ok",
     "timestamp": 1756905178991,
     "user": {
      "displayName": "Sakshi Hiremath",
      "userId": "10350317408396281799"
     },
     "user_tz": -330
    },
    "id": "1K7irTf_h7IH",
    "jupyter": {
     "outputs_hidden": true
    }
   },
   "outputs": [],
   "source": [
    "# WRITE CODE HERE THAT REPRODUCES THE OUTPUT OF THE CELL BELOW\n",
    "# BE CAREFUL NOT TO RUN THE CELL BELOW, OTHERWISE YOU WON'T\n",
    "# BE ABLE TO SEE THE OUTPUT ANY MORE"
   ]
  },
  {
   "cell_type": "code",
   "execution_count": 55,
   "metadata": {
    "colab": {
     "base_uri": "https://localhost:8080/"
    },
    "executionInfo": {
     "elapsed": 46,
     "status": "ok",
     "timestamp": 1756905179033,
     "user": {
      "displayName": "Sakshi Hiremath",
      "userId": "10350317408396281799"
     },
     "user_tz": -330
    },
    "id": "sPDuFEkgh7II",
    "outputId": "5cddc073-850a-408a-fcfb-857a6099a2ce"
   },
   "outputs": [
    {
     "data": {
      "text/plain": [
       "array([[ 1,  2,  3,  4,  5],\n",
       "       [ 6,  7,  8,  9, 10],\n",
       "       [11, 12, 13, 14, 15],\n",
       "       [16, 17, 18, 19, 20],\n",
       "       [21, 22, 23, 24, 25]])"
      ]
     },
     "execution_count": 55,
     "metadata": {},
     "output_type": "execute_result"
    }
   ],
   "source": [
    "np.arange(1,26).reshape(5,5)"
   ]
  },
  {
   "cell_type": "code",
   "execution_count": 56,
   "metadata": {
    "collapsed": true,
    "executionInfo": {
     "elapsed": 79,
     "status": "ok",
     "timestamp": 1756905179107,
     "user": {
      "displayName": "Sakshi Hiremath",
      "userId": "10350317408396281799"
     },
     "user_tz": -330
    },
    "id": "WgiBe0lsh7II",
    "jupyter": {
     "outputs_hidden": true
    }
   },
   "outputs": [],
   "source": [
    "# WRITE CODE HERE THAT REPRODUCES THE OUTPUT OF THE CELL BELOW\n",
    "# BE CAREFUL NOT TO RUN THE CELL BELOW, OTHERWISE YOU WON'T\n",
    "# BE ABLE TO SEE THE OUTPUT ANY MORE"
   ]
  },
  {
   "cell_type": "code",
   "execution_count": 57,
   "metadata": {
    "colab": {
     "base_uri": "https://localhost:8080/"
    },
    "executionInfo": {
     "elapsed": 19,
     "status": "ok",
     "timestamp": 1756905179118,
     "user": {
      "displayName": "Sakshi Hiremath",
      "userId": "10350317408396281799"
     },
     "user_tz": -330
    },
    "id": "HrPVXKSSh7II",
    "outputId": "4805432e-4f5f-40ed-adb9-9b376f58152a"
   },
   "outputs": [
    {
     "data": {
      "text/plain": [
       "[21, 22, 23, 24, 25]"
      ]
     },
     "execution_count": 57,
     "metadata": {},
     "output_type": "execute_result"
    }
   ],
   "source": [
    "array=([[ 1,  2,  3,  4,  5],\n",
    "       [ 6,  7,  8,  9, 10],\n",
    "       [11, 12, 13, 14, 15],\n",
    "       [16, 17, 18, 19, 20],\n",
    "       [21, 22, 23, 24, 25]])\n",
    "\n",
    "\n",
    "array[-1]"
   ]
  },
  {
   "cell_type": "code",
   "execution_count": 58,
   "metadata": {
    "collapsed": true,
    "executionInfo": {
     "elapsed": 10,
     "status": "ok",
     "timestamp": 1756905179119,
     "user": {
      "displayName": "Sakshi Hiremath",
      "userId": "10350317408396281799"
     },
     "user_tz": -330
    },
    "id": "b4hDjd6Ph7IJ",
    "jupyter": {
     "outputs_hidden": true
    }
   },
   "outputs": [],
   "source": [
    "# WRITE CODE HERE THAT REPRODUCES THE OUTPUT OF THE CELL BELOW\n",
    "# BE CAREFUL NOT TO RUN THE CELL BELOW, OTHERWISE YOU WON'T\n",
    "# BE ABLE TO SEE THE OUTPUT ANY MORE"
   ]
  },
  {
   "cell_type": "code",
   "execution_count": 59,
   "metadata": {
    "colab": {
     "base_uri": "https://localhost:8080/"
    },
    "executionInfo": {
     "elapsed": 19,
     "status": "ok",
     "timestamp": 1756905179132,
     "user": {
      "displayName": "Sakshi Hiremath",
      "userId": "10350317408396281799"
     },
     "user_tz": -330
    },
    "id": "RhJe3gHDh7IJ",
    "outputId": "e7441e0a-b352-484d-b536-371975606051"
   },
   "outputs": [
    {
     "data": {
      "text/plain": [
       "[[16, 17, 18, 19, 20], [21, 22, 23, 24, 25]]"
      ]
     },
     "execution_count": 59,
     "metadata": {},
     "output_type": "execute_result"
    }
   ],
   "source": [
    "array=([[ 1,  2,  3,  4,  5],\n",
    "       [ 6,  7,  8,  9, 10],\n",
    "       [11, 12, 13, 14, 15],\n",
    "       [16, 17, 18, 19, 20],\n",
    "       [21, 22, 23, 24, 25]])\n",
    "array[-2:]"
   ]
  },
  {
   "cell_type": "markdown",
   "metadata": {
    "id": "ybt429V1h7IJ"
   },
   "source": [
    "### Now do the following"
   ]
  },
  {
   "cell_type": "markdown",
   "metadata": {
    "id": "nZTTOAQph7IJ"
   },
   "source": [
    "#### Get the sum of all the values in mat"
   ]
  },
  {
   "cell_type": "code",
   "execution_count": 60,
   "metadata": {
    "colab": {
     "base_uri": "https://localhost:8080/"
    },
    "executionInfo": {
     "elapsed": 11,
     "status": "ok",
     "timestamp": 1756905179144,
     "user": {
      "displayName": "Sakshi Hiremath",
      "userId": "10350317408396281799"
     },
     "user_tz": -330
    },
    "id": "hbMJqyjFh7IJ",
    "outputId": "ba1a44be-24ff-4371-f1f7-72ac22722cbd"
   },
   "outputs": [
    {
     "data": {
      "text/plain": [
       "array([[ 1,  2,  3,  4,  5],\n",
       "       [ 6,  7,  8,  9, 10],\n",
       "       [11, 12, 13, 14, 15],\n",
       "       [16, 17, 18, 19, 20],\n",
       "       [21, 22, 23, 24, 25]])"
      ]
     },
     "execution_count": 60,
     "metadata": {},
     "output_type": "execute_result"
    }
   ],
   "source": [
    "arr"
   ]
  },
  {
   "cell_type": "code",
   "execution_count": 61,
   "metadata": {
    "colab": {
     "base_uri": "https://localhost:8080/"
    },
    "executionInfo": {
     "elapsed": 15,
     "status": "ok",
     "timestamp": 1756905179162,
     "user": {
      "displayName": "Sakshi Hiremath",
      "userId": "10350317408396281799"
     },
     "user_tz": -330
    },
    "id": "CC9g6Aywh7IK",
    "outputId": "708fbbf4-30bd-41bb-ec6d-cb05db620206"
   },
   "outputs": [
    {
     "data": {
      "text/plain": [
       "325"
      ]
     },
     "execution_count": 61,
     "metadata": {},
     "output_type": "execute_result"
    }
   ],
   "source": [
    "import numpy as np\n",
    "array=[[ 1,  2,  3,  4,  5],\n",
    "       [ 6,  7,  8,  9, 10],\n",
    "       [11, 12, 13, 14, 15],\n",
    "       [16, 17, 18, 19, 20],\n",
    "       [21, 22, 23, 24, 25]]\n",
    "\n",
    "total=int(np.sum(array))\n",
    "total"
   ]
  },
  {
   "cell_type": "markdown",
   "metadata": {
    "id": "YZ8zkggch7IK"
   },
   "source": [
    "#### Get the standard deviation of the values in mat"
   ]
  },
  {
   "cell_type": "code",
   "execution_count": 62,
   "metadata": {
    "colab": {
     "base_uri": "https://localhost:8080/"
    },
    "executionInfo": {
     "elapsed": 67,
     "status": "ok",
     "timestamp": 1756905179224,
     "user": {
      "displayName": "Sakshi Hiremath",
      "userId": "10350317408396281799"
     },
     "user_tz": -330
    },
    "id": "_qxXh3iJh7IK",
    "outputId": "92c1911c-5301-4fbb-8da2-cacee6b99f16"
   },
   "outputs": [
    {
     "data": {
      "text/plain": [
       "np.float64(7.211102550927978)"
      ]
     },
     "execution_count": 62,
     "metadata": {},
     "output_type": "execute_result"
    }
   ],
   "source": [
    "import numpy as np\n",
    "np.std(arr)"
   ]
  },
  {
   "cell_type": "markdown",
   "metadata": {
    "id": "3DGL0oo6h7IK"
   },
   "source": [
    "#### Get the sum of all the columns in mat"
   ]
  },
  {
   "cell_type": "code",
   "execution_count": 63,
   "metadata": {
    "colab": {
     "base_uri": "https://localhost:8080/"
    },
    "executionInfo": {
     "elapsed": 17,
     "status": "ok",
     "timestamp": 1756905179228,
     "user": {
      "displayName": "Sakshi Hiremath",
      "userId": "10350317408396281799"
     },
     "user_tz": -330
    },
    "id": "oBHPRn6Lh7IL",
    "outputId": "244f10b9-3de4-4e36-89ee-3bd582b199c5"
   },
   "outputs": [
    {
     "data": {
      "text/plain": [
       "array([55, 60, 65, 70, 75])"
      ]
     },
     "execution_count": 63,
     "metadata": {},
     "output_type": "execute_result"
    }
   ],
   "source": [
    "import numpy as np\n",
    "arr.sum(axis=0)"
   ]
  },
  {
   "cell_type": "code",
   "execution_count": 64,
   "metadata": {
    "colab": {
     "base_uri": "https://localhost:8080/"
    },
    "executionInfo": {
     "elapsed": 13,
     "status": "ok",
     "timestamp": 1756905179242,
     "user": {
      "displayName": "Sakshi Hiremath",
      "userId": "10350317408396281799"
     },
     "user_tz": -330
    },
    "id": "sHGSgVrBh7IL",
    "outputId": "54283774-0658-4b4f-f0fe-60c29dc64d86"
   },
   "outputs": [
    {
     "data": {
      "text/plain": [
       "array([[ 5],\n",
       "       [10],\n",
       "       [15],\n",
       "       [20],\n",
       "       [25]])"
      ]
     },
     "execution_count": 64,
     "metadata": {},
     "output_type": "execute_result"
    }
   ],
   "source": [
    "arr[:,4:]"
   ]
  },
  {
   "cell_type": "code",
   "execution_count": 65,
   "metadata": {
    "colab": {
     "base_uri": "https://localhost:8080/"
    },
    "executionInfo": {
     "elapsed": 11,
     "status": "ok",
     "timestamp": 1756905179257,
     "user": {
      "displayName": "Sakshi Hiremath",
      "userId": "10350317408396281799"
     },
     "user_tz": -330
    },
    "id": "kWWBFd-Vh7IL",
    "outputId": "faa63b54-cfd3-4770-8659-62baebf7e6f5"
   },
   "outputs": [
    {
     "data": {
      "text/plain": [
       "array([55, 60, 65, 70, 75])"
      ]
     },
     "execution_count": 65,
     "metadata": {},
     "output_type": "execute_result"
    }
   ],
   "source": [
    "import numpy as np\n",
    "arr[:, -1] + 50"
   ]
  },
  {
   "cell_type": "markdown",
   "metadata": {
    "collapsed": true,
    "id": "TFkPeSbnh7IL",
    "jupyter": {
     "outputs_hidden": true
    }
   },
   "source": [
    "# Great Job!"
   ]
  }
 ],
 "metadata": {
  "colab": {
   "provenance": [
    {
     "file_id": "1vE65V8IYuRNfvM7dZ60gRqre-JpXspYe",
     "timestamp": 1756905485203
    },
    {
     "file_id": "1nH8z-7rbJ7PahqGJbZFVizIU78_e06Cb",
     "timestamp": 1756043387108
    }
   ]
  },
  "kernelspec": {
   "display_name": "Python 3 (ipykernel)",
   "language": "python",
   "name": "python3"
  },
  "language_info": {
   "codemirror_mode": {
    "name": "ipython",
    "version": 3
   },
   "file_extension": ".py",
   "mimetype": "text/x-python",
   "name": "python",
   "nbconvert_exporter": "python",
   "pygments_lexer": "ipython3",
   "version": "3.13.1"
  }
 },
 "nbformat": 4,
 "nbformat_minor": 4
}
